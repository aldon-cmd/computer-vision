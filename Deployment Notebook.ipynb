{
 "cells": [
  {
   "cell_type": "code",
   "execution_count": 2,
   "id": "c3b9a7a9-0f72-4388-b93f-667890a4f069",
   "metadata": {},
   "outputs": [],
   "source": [
    "import os\n",
    "import cv2\n",
    "import tensorflow as tf\n",
    "from pathlib import Path\n",
    "import numpy as np\n",
    "from tensorflow.keras.utils import img_to_array\n",
    "from tensorflow.keras import layers\n",
    "from tensorflow.keras import Model\n",
    "import ipywidgets as widgets\n",
    "from ipywidgets import HBox, VBox, Layout"
   ]
  },
  {
   "cell_type": "code",
   "execution_count": 2,
   "id": "846b5ce3-8b72-4243-b780-5f432ad1c4fa",
   "metadata": {},
   "outputs": [],
   "source": [
    "# Recreate the exact same model, including its weights and the optimizer\n",
    "new_model = tf.keras.models.load_model('bank_notes.h5')"
   ]
  },
  {
   "cell_type": "code",
   "execution_count": 3,
   "id": "688ca7bb-8b8b-4933-bfc9-6c7d8ffc4033",
   "metadata": {},
   "outputs": [
    {
     "data": {
      "application/vnd.jupyter.widget-view+json": {
       "model_id": "6b28cbb10b954c9ea0794a43ab1dbfec",
       "version_major": 2,
       "version_minor": 0
      },
      "text/plain": [
       "HBox(children=(FileUpload(value={}, accept='image/*', description='Upload'), Button(description='Predict', ico…"
      ]
     },
     "metadata": {},
     "output_type": "display_data"
    }
   ],
   "source": [
    "w1 = widgets.FileUpload(\n",
    "    accept='image/*',  # Accepted file extension e.g. '.txt', '.pdf', 'image/*', 'image/*,.pdf'\n",
    "    multiple=False  # True to accept multiple files upload else False\n",
    ")\n",
    "w2 = widgets.Button(\n",
    "    description='Predict',\n",
    "    disabled=False,\n",
    "    button_style='', # 'success', 'info', 'warning', 'danger' or ''\n",
    "    tooltip='Click me',\n",
    "    icon='image' # (FontAwesome names without the `fa-` prefix)\n",
    ")\n",
    "w2.style.button_color = 'silver'\n",
    "\n",
    "debug_view = widgets.Output()\n",
    "\n",
    "def on_upload_change(change):\n",
    "\n",
    "    main_container.children = main_container.children[:-1]\n",
    "    \n",
    "def predict(image):\n",
    "    img=cv2.imdecode(np.frombuffer(image, np.uint8), -1)\n",
    "    img=cv2.resize(img, (150,150), interpolation = cv2.INTER_AREA)  \n",
    "    img=img/255\n",
    "    predictions=new_model.predict(np.expand_dims(img, axis=0))\n",
    "    pre_class=predictions.argmax()\n",
    "    if predictions[0]>=0.6:\n",
    "        print(\"This image contains $50\")\n",
    "    else:\n",
    "        print(\"This image contains  $100\")    \n",
    "\n",
    "@debug_view.capture(clear_output=True)\n",
    "def show_image(btn):\n",
    "   \n",
    "    if(w1.value):\n",
    "    # if(len(list(w1.value.items()))>0):\n",
    "        # image = list(w1.value.items())[0][1]['content']\n",
    "        image = w1.value[0][\"content\"]\n",
    "        w3=widgets.Image(\n",
    "        value=image,\n",
    "        format='png',\n",
    "        width=100,\n",
    "        height=200,\n",
    "        )\n",
    "        \n",
    "        main_container.children = main_container.children  + (VBox([w3,debug_view]),)\n",
    "        \n",
    "        predict(image)\n",
    "\n",
    "    else:\n",
    "        print(\"Please upload an image\")\n",
    "\n",
    "w1.observe(on_upload_change, names='value')        \n",
    "w2.on_click(show_image)\n",
    "\n",
    "main_container = HBox([w1,w2,VBox([debug_view])])\n",
    "main_container"
   ]
  }
 ],
 "metadata": {
  "kernelspec": {
   "display_name": "Python 3 (ipykernel)",
   "language": "python",
   "name": "python3"
  },
  "language_info": {
   "codemirror_mode": {
    "name": "ipython",
    "version": 3
   },
   "file_extension": ".py",
   "mimetype": "text/x-python",
   "name": "python",
   "nbconvert_exporter": "python",
   "pygments_lexer": "ipython3",
   "version": "3.9.7"
  }
 },
 "nbformat": 4,
 "nbformat_minor": 5
}
